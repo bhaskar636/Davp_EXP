{
 "cells": [
  {
   "cell_type": "markdown",
   "metadata": {},
   "source": [
    "EXP-9 : Create a dashboard using dash to display live stock price updates for three companies.\n",
    "\n",
    "OUTPUT:   A dashboard with live updating ine charts for stock prices of three companies."
   ]
  },
  {
   "cell_type": "markdown",
   "metadata": {},
   "source": [
    "1. Import necessary libraries like `dash`, `plotly`, `yfinance`, and `pandas` for dashboard creation and stock data fetching.\n",
    "2. Initialize the Dash app and define the stock symbols (AAPL, MSFT, TSLA) for Apple, Microsoft, and Tesla.\n",
    "3. Create a function to fetch stock data using `yfinance` for the selected ticker, retrieving minute-level data for today.\n",
    "4. Set up the dashboard layout with a header, dropdown for stock selection, graph for displaying stock prices, and interval for refreshing data every minute.\n",
    "5. Define a callback to update the graph with live data for the selected stock and adjust the plot with a line chart showing stock prices over time.\n",
    "6. Run the app using `app.run_server(debug=True)` to launch the interactive dashboard."
   ]
  },
  {
   "cell_type": "code",
   "execution_count": 1,
   "metadata": {},
   "outputs": [
    {
     "name": "stderr",
     "output_type": "stream",
     "text": [
      "C:\\Users\\balab\\AppData\\Local\\Temp\\ipykernel_20280\\1830569405.py:2: UserWarning: \n",
      "The dash_core_components package is deprecated. Please replace\n",
      "`import dash_core_components as dcc` with `from dash import dcc`\n",
      "  import dash_core_components as dcc\n",
      "C:\\Users\\balab\\AppData\\Local\\Temp\\ipykernel_20280\\1830569405.py:3: UserWarning: \n",
      "The dash_html_components package is deprecated. Please replace\n",
      "`import dash_html_components as html` with `from dash import html`\n",
      "  import dash_html_components as html\n"
     ]
    },
    {
     "data": {
      "text/html": [
       "\n",
       "        <iframe\n",
       "            width=\"100%\"\n",
       "            height=\"650\"\n",
       "            src=\"http://127.0.0.1:8050/\"\n",
       "            frameborder=\"0\"\n",
       "            allowfullscreen\n",
       "            \n",
       "        ></iframe>\n",
       "        "
      ],
      "text/plain": [
       "<IPython.lib.display.IFrame at 0x187ac1ebfd0>"
      ]
     },
     "metadata": {},
     "output_type": "display_data"
    }
   ],
   "source": [
    "import dash\n",
    "import dash_core_components as dcc\n",
    "import dash_html_components as html\n",
    "from dash.dependencies import Input, Output\n",
    "import plotly.graph_objs as go\n",
    "import yfinance as yf\n",
    "import pandas as pd\n",
    "import time\n",
    "\n",
    "# Initialize the Dash app\n",
    "app = dash.Dash(__name__)\n",
    "\n",
    "# Define the list of companies and their stock symbols\n",
    "companies = ['AAPL', 'MSFT', 'TSLA']\n",
    "company_names = ['Apple', 'Microsoft', 'Tesla']\n",
    "\n",
    "# Function to get stock data\n",
    "def get_stock_data(ticker):\n",
    "    stock = yf.Ticker(ticker)\n",
    "    df = stock.history(period=\"1d\", interval=\"1m\")  # Get 1 minute data for today\n",
    "    df.reset_index(inplace=True)\n",
    "    return df\n",
    "\n",
    "# Initial data to display\n",
    "initial_data = {}\n",
    "for ticker in companies:\n",
    "    initial_data[ticker] = get_stock_data(ticker)\n",
    "\n",
    "# Define the layout of the dashboard\n",
    "app.layout = html.Div([\n",
    "    html.H1('Live Stock Price Dashboard', style={'color': 'yellow'}),\n",
    "    \n",
    "    # Dropdown for selecting a stock (for now, we will show all stocks)\n",
    "    dcc.Dropdown(\n",
    "        id='stock-dropdown',\n",
    "        options=[{'label': company, 'value': ticker} for company, ticker in zip(company_names, companies)],\n",
    "        value='AAPL',  # Default value\n",
    "        multi=False\n",
    "    ),\n",
    "    \n",
    "    # Graph for displaying stock prices\n",
    "    dcc.Graph(id='stock-graph'),\n",
    "    \n",
    "    # Interval component to update the graph every 1 minute\n",
    "    dcc.Interval(\n",
    "        id='interval-component',\n",
    "        interval=60*1000,  # 1 minute in milliseconds\n",
    "        n_intervals=0\n",
    "    )\n",
    "])\n",
    "\n",
    "# Define the callback to update the graph with live data\n",
    "@app.callback(\n",
    "    Output('stock-graph', 'figure'),\n",
    "    [Input('interval-component', 'n_intervals'),\n",
    "     Input('stock-dropdown', 'value')]\n",
    ")\n",
    "def update_stock_graph(n, selected_stock):\n",
    "    # Get the data for the selected stock\n",
    "    stock_data = get_stock_data(selected_stock)\n",
    "    \n",
    "    # Create the line chart with stock price data\n",
    "    figure = {\n",
    "        'data': [\n",
    "            go.Scatter(\n",
    "                x=stock_data['Datetime'],\n",
    "                y=stock_data['Close'],\n",
    "                mode='lines+markers',\n",
    "                name=selected_stock\n",
    "            )\n",
    "        ],\n",
    "        'layout': go.Layout(\n",
    "            title=f'{selected_stock} Live Stock Price',\n",
    "            xaxis={'title': 'Time'},\n",
    "            yaxis={'title': 'Stock Price (USD)'},\n",
    "            template=\"plotly_dark\"\n",
    "        )\n",
    "    }\n",
    "    return figure\n",
    "\n",
    "# Run the app\n",
    "if __name__ == '__main__':\n",
    "    app.run_server(debug=True)\n"
   ]
  },
  {
   "cell_type": "code",
   "execution_count": null,
   "metadata": {},
   "outputs": [],
   "source": []
  }
 ],
 "metadata": {
  "kernelspec": {
   "display_name": "Python 3",
   "language": "python",
   "name": "python3"
  },
  "language_info": {
   "codemirror_mode": {
    "name": "ipython",
    "version": 3
   },
   "file_extension": ".py",
   "mimetype": "text/x-python",
   "name": "python",
   "nbconvert_exporter": "python",
   "pygments_lexer": "ipython3",
   "version": "3.11.9"
  }
 },
 "nbformat": 4,
 "nbformat_minor": 2
}
