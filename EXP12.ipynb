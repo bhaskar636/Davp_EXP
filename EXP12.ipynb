{
 "cells": [
  {
   "cell_type": "markdown",
   "metadata": {},
   "source": [
    "EXP-12: Develop a bubble chart to analyze the performance of students in a class based on marks , attendance , and participation levels .\n",
    "\n",
    "OUTPUT:  A bubble chart where bubble size represents participation and axes represent marks and ."
   ]
  },
  {
   "cell_type": "markdown",
   "metadata": {},
   "source": [
    "1. Import necessary libraries (`plotly.express` and `pandas`).\n",
    "2. Load the dataset (`students_data.csv`) and ensure required columns are present.\n",
    "3. Create a bubble chart with 'Marks' on the x-axis, 'Attendance' on the y-axis, and 'Participation' as the size.\n",
    "4. Set 'Performance Rating' as the color, with student names as hover text.\n",
    "5. Display the chart in the default web browser using `fig.show(renderer=\"browser\")`."
   ]
  },
  {
   "cell_type": "code",
   "execution_count": 23,
   "metadata": {},
   "outputs": [],
   "source": [
    "import plotly.express as px\n",
    "import pandas as pd\n",
    "\n",
    "# Load your dataset\n",
    "df = pd.read_csv('students_data.csv')\n",
    "\n",
    "# Check the columns to ensure the dataset contains the necessary fields\n",
    "required_columns = ['Student', 'Marks', 'Attendance', 'Participation', 'Performance Rating']\n",
    "missing_columns = [col for col in required_columns if col not in df.columns]\n",
    "if missing_columns:\n",
    "    raise ValueError(f\"The dataset is missing the following required columns: {missing_columns}\")\n",
    "\n",
    "# Create the bubble chart with Performance Rating as color\n",
    "fig = px.scatter(df, \n",
    "                 x='Marks', \n",
    "                 y='Attendance', \n",
    "                 size='Participation', \n",
    "                 color='Performance Rating',  # Color based on performance rating\n",
    "                 text='Student',\n",
    "                 title=\"Student Performance Analysis\",\n",
    "                 labels={'Marks': 'Marks (%)', \n",
    "                         'Attendance': 'Attendance (%)', \n",
    "                         'Participation': 'Participation Level', \n",
    "                         'Performance Rating': 'Performance Rating'},\n",
    "                 hover_name='Student', \n",
    "                 hover_data={'Marks': True, 'Attendance': True, 'Participation': True, 'Performance Rating': True})\n",
    "\n",
    "# To handle rendering in VS Code, set the renderer explicitly\n",
    "fig.show(renderer=\"browser\")  # This will open the chart in your default web browser\n"
   ]
  }
 ],
 "metadata": {
  "kernelspec": {
   "display_name": "Python 3",
   "language": "python",
   "name": "python3"
  },
  "language_info": {
   "codemirror_mode": {
    "name": "ipython",
    "version": 3
   },
   "file_extension": ".py",
   "mimetype": "text/x-python",
   "name": "python",
   "nbconvert_exporter": "python",
   "pygments_lexer": "ipython3",
   "version": "3.11.9"
  }
 },
 "nbformat": 4,
 "nbformat_minor": 2
}
