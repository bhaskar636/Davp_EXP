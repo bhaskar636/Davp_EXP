{
 "cells": [
  {
   "cell_type": "markdown",
   "metadata": {},
   "source": [
    "EXP-11 : Create a layout for a dashboard that includes a pie chart showing market share , a bar chart of sales by product , and a Scatter plot for profits.\n",
    "\n",
    "OUTPUT: A dash board layout displaying all three visualizations together  "
   ]
  },
  {
   "cell_type": "markdown",
   "metadata": {},
   "source": [
    "1. Import necessary libraries (`dash`, `dcc`, `html`, `plotly.graph_objects`, `pandas`).\n",
    "2. Load the dataset (`product_data.csv`) and verify the presence of required columns ('Product', 'Sales', 'Profit').\n",
    "3. Create a Pie Chart for market share, a Bar Chart for sales by product, and a Scatter Plot for profits by product.\n",
    "4. Define the layout of the app, placing the charts in rows for organized display.\n",
    "5. Run the Dash app on a specific port (8051) with `app.run_server(debug=True, port=8051)`."
   ]
  },
  {
   "cell_type": "code",
   "execution_count": 1,
   "metadata": {},
   "outputs": [
    {
     "data": {
      "text/html": [
       "\n",
       "        <iframe\n",
       "            width=\"100%\"\n",
       "            height=\"650\"\n",
       "            src=\"http://127.0.0.1:8051/\"\n",
       "            frameborder=\"0\"\n",
       "            allowfullscreen\n",
       "            \n",
       "        ></iframe>\n",
       "        "
      ],
      "text/plain": [
       "<IPython.lib.display.IFrame at 0x2940f045ed0>"
      ]
     },
     "metadata": {},
     "output_type": "display_data"
    }
   ],
   "source": [
    "import dash\n",
    "from dash import dcc, html\n",
    "import plotly.graph_objects as go\n",
    "import pandas as pd\n",
    "\n",
    "# Load dataset from 'product_data.csv'\n",
    "df = pd.read_csv(\"product_data.csv\")\n",
    "\n",
    "# Check if the necessary columns are in the dataset\n",
    "required_columns = ['Product', 'Sales', 'Profit']\n",
    "missing_columns = [col for col in required_columns if col not in df.columns]\n",
    "if missing_columns:\n",
    "    raise ValueError(f\"The dataset is missing the following required columns: {missing_columns}\")\n",
    "\n",
    "# Initialize Dash App\n",
    "app = dash.Dash(__name__)\n",
    "\n",
    "# Create Pie Chart for Market Share (based on Sales)\n",
    "pie_chart = go.Figure(data=[go.Pie(\n",
    "    labels=df['Product'],\n",
    "    values=df['Sales'],\n",
    "    title=\"Market Share by Product\",\n",
    "    hole=0.3  # Donut chart style\n",
    ")])\n",
    "\n",
    "# Create Bar Chart for Sales by Product\n",
    "bar_chart = go.Figure(data=[go.Bar(\n",
    "    x=df['Product'],\n",
    "    y=df['Sales'],\n",
    ")])\n",
    "\n",
    "bar_chart.update_layout(\n",
    "    title=\"Sales by Product\",\n",
    "    xaxis_title=\"Product\",\n",
    "    yaxis_title=\"Sales\"\n",
    ")\n",
    "\n",
    "# Create Scatter Plot for Profits by Product\n",
    "scatter_plot = go.Figure(data=[go.Scatter(\n",
    "    x=df['Product'],\n",
    "    y=df['Profit'],\n",
    "    mode='markers',\n",
    "    marker=dict(size=12)\n",
    ")])\n",
    "\n",
    "scatter_plot.update_layout(\n",
    "    title=\"Profits by Product\",\n",
    "    xaxis_title=\"Product\",\n",
    "    yaxis_title=\"Profit\"\n",
    ")\n",
    "\n",
    "# Define App Layout\n",
    "app.layout = html.Div([\n",
    "    html.H1(\"Sales Dashboard\", style={'textAlign': 'center'}),\n",
    "    \n",
    "    # Row for the Pie Chart, Bar Chart, and Scatter Plot\n",
    "    html.Div([\n",
    "        html.Div([\n",
    "            dcc.Graph(figure=pie_chart),\n",
    "        ], className='six columns'),\n",
    "        \n",
    "        html.Div([\n",
    "            dcc.Graph(figure=bar_chart),\n",
    "        ], className='six columns'),\n",
    "    ], className='row'),\n",
    "    \n",
    "    # Add another row for Scatter plot\n",
    "    html.Div([\n",
    "        dcc.Graph(figure=scatter_plot),\n",
    "    ], className='twelve columns'),\n",
    "])\n",
    "\n",
    "# Run the app on a different port (e.g., port 8051)\n",
    "if __name__ == \"__main__\":\n",
    "    app.run_server(debug=True, port=8051)\n"
   ]
  },
  {
   "cell_type": "code",
   "execution_count": null,
   "metadata": {},
   "outputs": [],
   "source": []
  }
 ],
 "metadata": {
  "kernelspec": {
   "display_name": "Python 3",
   "language": "python",
   "name": "python3"
  },
  "language_info": {
   "codemirror_mode": {
    "name": "ipython",
    "version": 3
   },
   "file_extension": ".py",
   "mimetype": "text/x-python",
   "name": "python",
   "nbconvert_exporter": "python",
   "pygments_lexer": "ipython3",
   "version": "3.11.9"
  }
 },
 "nbformat": 4,
 "nbformat_minor": 2
}
