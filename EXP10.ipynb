{
 "cells": [
  {
   "cell_type": "markdown",
   "metadata": {},
   "source": [
    "EXP-10 Design an interactive dashboard to visuaize sales trends , allowing users to filter by region and product  category.\n",
    "\n",
    "OUTPUT:   A dashboard with dropdown filters and line charts showing sales trends fo selected filters "
   ]
  },
  {
   "cell_type": "markdown",
   "metadata": {},
   "source": [
    "1. Import required libraries (`JupyterDash`, `dash`, `pandas`, `plotly.express`) for building the interactive dashboard.\n",
    "2. Load the sales data CSV and inspect the structure to ensure the correct columns and data format.\n",
    "3. Rename columns if necessary and convert the 'Date' column to datetime format for accurate plotting.\n",
    "4. Define the app layout with dropdown filters for selecting the region and product category, along with a line chart for sales trends.\n",
    "5. Set up a callback function to filter the data based on user selections and update the line chart with the filtered sales data.\n",
    "6. Run the app in Jupyter notebook mode using `app.run_server(mode=\"inline\")` to display the dashboard."
   ]
  },
  {
   "cell_type": "code",
   "execution_count": 1,
   "metadata": {},
   "outputs": [
    {
     "name": "stdout",
     "output_type": "stream",
     "text": [
      "Dataset Columns: Index(['Date', 'Region', 'Product Category', 'Sales'], dtype='object')\n",
      "Dataset Preview:          Date Region Product Category   Sales\n",
      "0  2024-06-01  North      Electronics  1300.0\n",
      "1  2024-06-02  South         Clothing   950.0\n",
      "2  2024-06-03   East  Home Appliances  1600.0\n",
      "3  2024-06-04   West      Electronics  1450.0\n",
      "4  2024-06-05  North         Clothing  1050.0\n"
     ]
    },
    {
     "name": "stderr",
     "output_type": "stream",
     "text": [
      "C:\\Users\\balab\\AppData\\Local\\Packages\\PythonSoftwareFoundation.Python.3.11_qbz5n2kfra8p0\\LocalCache\\local-packages\\Python311\\site-packages\\dash\\dash.py:579: UserWarning:\n",
      "\n",
      "JupyterDash is deprecated, use Dash instead.\n",
      "See https://dash.plotly.com/dash-in-jupyter for more details.\n",
      "\n"
     ]
    },
    {
     "data": {
      "text/html": [
       "\n",
       "        <iframe\n",
       "            width=\"100%\"\n",
       "            height=\"650\"\n",
       "            src=\"http://127.0.0.1:8050/\"\n",
       "            frameborder=\"0\"\n",
       "            allowfullscreen\n",
       "            \n",
       "        ></iframe>\n",
       "        "
      ],
      "text/plain": [
       "<IPython.lib.display.IFrame at 0x22f9561b0d0>"
      ]
     },
     "metadata": {},
     "output_type": "display_data"
    },
    {
     "data": {
      "text/html": [
       "\n",
       "        <iframe\n",
       "            width=\"100%\"\n",
       "            height=\"650\"\n",
       "            src=\"http://127.0.0.1:8050/\"\n",
       "            frameborder=\"0\"\n",
       "            allowfullscreen\n",
       "            \n",
       "        ></iframe>\n",
       "        "
      ],
      "text/plain": [
       "<IPython.lib.display.IFrame at 0x22f952c3890>"
      ]
     },
     "metadata": {},
     "output_type": "display_data"
    }
   ],
   "source": [
    "from jupyter_dash import JupyterDash\n",
    "from dash import dcc, html, Input, Output\n",
    "import pandas as pd\n",
    "import plotly.express as px\n",
    "\n",
    "# Load the dataset\n",
    "file_path = \"sales_data.csv\"  # Update this with the actual path to your CSV file\n",
    "df = pd.read_csv(\"sales_data.csv\")\n",
    "\n",
    "# Debugging step: Print the column names and first few rows to verify the structure of the data\n",
    "print(\"Dataset Columns:\", df.columns)\n",
    "print(\"Dataset Preview:\", df.head())\n",
    "\n",
    "# Rename columns if needed (change 'YourRegionColumnName' and 'YourCategoryColumnName' to actual column names)\n",
    "df.rename(columns={\n",
    "    'Region': 'Region',  # Replace with actual column name for region if needed\n",
    "    'Product Category': 'Product Category',  # Replace if needed\n",
    "    'Date': 'Date',  # Replace if needed\n",
    "    'Sales': 'Sales'  # Replace if needed\n",
    "}, inplace=True)\n",
    "\n",
    "# Ensure 'Date' column is in datetime format\n",
    "df['Date'] = pd.to_datetime(df['Date'])\n",
    "\n",
    "# Check if required columns are present\n",
    "required_columns = ['Date', 'Region', 'Product Category', 'Sales']\n",
    "missing_columns = [col for col in required_columns if col not in df.columns]\n",
    "if missing_columns:\n",
    "    raise ValueError(f\"The dataset is missing the following required columns: {missing_columns}\")\n",
    "\n",
    "# Initialize JupyterDash app\n",
    "app = JupyterDash(__name__)\n",
    "\n",
    "# App layout\n",
    "app.layout = html.Div([\n",
    "    html.H1(\"Sales Trends Dashboard\", style={'textAlign': 'center'}),\n",
    "    \n",
    "    # Filters\n",
    "    html.Div([\n",
    "        html.Label(\"Select Region:\"),\n",
    "        dcc.Dropdown(\n",
    "            id='region-filter',\n",
    "            options=[{'label': region, 'value': region} for region in df['Region'].unique()],\n",
    "            value=df['Region'].unique()[0],\n",
    "            clearable=False\n",
    "        ),\n",
    "    ], style={'width': '48%', 'display': 'inline-block', 'padding': '10px'}),\n",
    "    \n",
    "    html.Div([\n",
    "        html.Label(\"Select Product Category:\"),\n",
    "        dcc.Dropdown(\n",
    "            id='category-filter',\n",
    "            options=[{'label': category, 'value': category} for category in df['Product Category'].unique()],\n",
    "            value=df['Product Category'].unique()[0],\n",
    "            clearable=False\n",
    "        ),\n",
    "    ], style={'width': '48%', 'display': 'inline-block', 'padding': '10px'}),\n",
    "    \n",
    "    # Line chart\n",
    "    dcc.Graph(id='sales-trend-chart'),\n",
    "])\n",
    "\n",
    "# Callback to update chart based on filters\n",
    "@app.callback(\n",
    "    Output('sales-trend-chart', 'figure'),\n",
    "    [Input('region-filter', 'value'),\n",
    "     Input('category-filter', 'value')]\n",
    ")\n",
    "def update_chart(selected_region, selected_category):\n",
    "    filtered_df = df[(df['Region'] == selected_region) & (df['Product Category'] == selected_category)]\n",
    "    fig = px.line(\n",
    "        filtered_df,\n",
    "        x='Date',\n",
    "        y='Sales',\n",
    "        title=f\"Sales Trends for {selected_category} in {selected_region}\",\n",
    "        labels={'Sales': 'Sales ($)', 'Date': 'Date'}\n",
    "    )\n",
    "    fig.update_layout(template='plotly_dark')\n",
    "    return fig\n",
    "\n",
    "# Run app in notebook mode\n",
    "app.run_server(mode=\"inline\")\n"
   ]
  },
  {
   "cell_type": "code",
   "execution_count": null,
   "metadata": {},
   "outputs": [],
   "source": []
  }
 ],
 "metadata": {
  "kernelspec": {
   "display_name": "Python 3",
   "language": "python",
   "name": "python3"
  },
  "language_info": {
   "codemirror_mode": {
    "name": "ipython",
    "version": 3
   },
   "file_extension": ".py",
   "mimetype": "text/x-python",
   "name": "python",
   "nbconvert_exporter": "python",
   "pygments_lexer": "ipython3",
   "version": "3.11.9"
  }
 },
 "nbformat": 4,
 "nbformat_minor": 2
}
