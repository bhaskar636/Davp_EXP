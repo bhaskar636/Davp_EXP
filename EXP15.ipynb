{
 "cells": [
  {
   "cell_type": "markdown",
   "metadata": {},
   "source": [
    "EXP-15 : Design a dashboard layout that includes an interactive component to 15 display sales, profits, and customer count based on a selected date range.\n",
    "OUTPUT : A functional dashboard where users can filter by date range and view dynamic visualization"
   ]
  },
  {
   "cell_type": "markdown",
   "metadata": {},
   "source": [
    "1. Import necessary libraries (Dash, Plotly, Pandas, Dash Table).\n",
    "2. Load and preprocess the dataset (parse dates, calculate profit).\n",
    "3. Group data by relevant categories (Date, Region, Product Category).\n",
    "4. Create a Dash app layout with components (title, date picker, graphs, table).\n",
    "5. Set up callback functions to filter data and update graphs and table based on selected date range.\n",
    "6. Run the Dash app for interactivity and dynamic updates."
   ]
  },
  {
   "cell_type": "code",
   "execution_count": 8,
   "metadata": {},
   "outputs": [
    {
     "data": {
      "text/html": [
       "\n",
       "        <iframe\n",
       "            width=\"100%\"\n",
       "            height=\"650\"\n",
       "            src=\"http://127.0.0.1:8052/\"\n",
       "            frameborder=\"0\"\n",
       "            allowfullscreen\n",
       "            \n",
       "        ></iframe>\n",
       "        "
      ],
      "text/plain": [
       "<IPython.lib.display.IFrame at 0x1a1b82f7710>"
      ]
     },
     "metadata": {},
     "output_type": "display_data"
    }
   ],
   "source": [
    "import dash\n",
    "from dash import dcc, html\n",
    "import plotly.express as px\n",
    "import pandas as pd\n",
    "from dash.dependencies import Input, Output\n",
    "import dash_table\n",
    "\n",
    "# Load the dataset (replace with the correct file path)\n",
    "df = pd.read_csv('sales_data.csv')\n",
    "\n",
    "# Convert 'Date' to datetime format\n",
    "df['Date'] = pd.to_datetime(df['Date'])\n",
    "\n",
    "# Aggregate data for sales, profit, and customer count\n",
    "# Let's assume the \"Profit\" is calculated as \"Sales\" - some cost (assuming no cost data, use a basic method)\n",
    "df['Profit'] = df['Sales'] * 0.2  # Assuming a 20% profit margin\n",
    "\n",
    "# Group the data by Date, Region, and Product Category\n",
    "grouped_df = df.groupby(['Date', 'Region', 'Product Category']).agg({\n",
    "    'Sales': 'sum',\n",
    "    'Profit': 'sum'\n",
    "}).reset_index()\n",
    "\n",
    "# Create the Dash app\n",
    "app = dash.Dash(__name__)\n",
    "\n",
    "# Layout of the dashboard\n",
    "app.layout = html.Div([\n",
    "    html.H1(\"Sales Dashboard\"),\n",
    "    \n",
    "    # Date Picker Range for filtering data\n",
    "    dcc.DatePickerRange(\n",
    "        id='date-picker-range',\n",
    "        start_date=df['Date'].min().date(),\n",
    "        end_date=df['Date'].max().date(),\n",
    "        display_format='YYYY-MM-DD',\n",
    "        style={'padding': '10px'}\n",
    "    ),\n",
    "    \n",
    "    # Graph displaying Sales over time\n",
    "    dcc.Graph(id='sales-graph'),\n",
    "    \n",
    "    # Graph displaying Profit over time\n",
    "    dcc.Graph(id='profit-graph'),\n",
    "    \n",
    "    # Table showing aggregated data for the selected date range\n",
    "    dash_table.DataTable(\n",
    "        id='sales-table',\n",
    "        columns=[{\"name\": col, \"id\": col} for col in grouped_df.columns],\n",
    "        style_table={'height': '350px', 'overflowY': 'auto'}\n",
    "    )\n",
    "])\n",
    "\n",
    "# Callbacks to update the graphs and table based on the selected date range\n",
    "@app.callback(\n",
    "    [Output('sales-graph', 'figure'),\n",
    "     Output('profit-graph', 'figure'),\n",
    "     Output('sales-table', 'data')],\n",
    "    [Input('date-picker-range', 'start_date'),\n",
    "     Input('date-picker-range', 'end_date')]\n",
    ")\n",
    "def update_dashboard(start_date, end_date):\n",
    "    # Filter data based on the selected date range\n",
    "    filtered_df = grouped_df[(grouped_df['Date'] >= start_date) & (grouped_df['Date'] <= end_date)]\n",
    "    \n",
    "    # Create the sales graph\n",
    "    sales_fig = px.line(filtered_df, x='Date', y='Sales', color='Product Category', title='Sales Over Time')\n",
    "\n",
    "    # Create the profit graph\n",
    "    profit_fig = px.line(filtered_df, x='Date', y='Profit', color='Product Category', title='Profit Over Time')\n",
    "\n",
    "    # Convert filtered dataframe to a list of dictionaries for the table\n",
    "    table_data = filtered_df.to_dict('records')\n",
    "    \n",
    "    return sales_fig, profit_fig, table_data\n",
    "\n",
    "# Run the app\n",
    "if __name__ == '__main__':\n",
    "    app.run_server(debug=True,port=8052)\n"
   ]
  },
  {
   "cell_type": "code",
   "execution_count": null,
   "metadata": {},
   "outputs": [],
   "source": []
  }
 ],
 "metadata": {
  "kernelspec": {
   "display_name": "Python 3",
   "language": "python",
   "name": "python3"
  },
  "language_info": {
   "codemirror_mode": {
    "name": "ipython",
    "version": 3
   },
   "file_extension": ".py",
   "mimetype": "text/x-python",
   "name": "python",
   "nbconvert_exporter": "python",
   "pygments_lexer": "ipython3",
   "version": "3.11.9"
  }
 },
 "nbformat": 4,
 "nbformat_minor": 2
}
